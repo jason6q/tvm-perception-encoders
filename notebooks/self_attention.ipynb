{
 "cells": [
  {
   "cell_type": "markdown",
   "id": "07ff642d",
   "metadata": {},
   "source": [
    "## Implementing Self Attention\n",
    "..."
   ]
  },
  {
   "cell_type": "code",
   "execution_count": 9,
   "id": "7f067f69",
   "metadata": {},
   "outputs": [
    {
     "name": "stdout",
     "output_type": "stream",
     "text": [
      "The autoreload extension is already loaded. To reload it, use:\n",
      "  %reload_ext autoreload\n"
     ]
    }
   ],
   "source": [
    "%load_ext autoreload\n",
    "%autoreload 2\n",
    "\n",
    "import sys\n",
    "sys.path.append('../')\n",
    "import inspect # We'll store the actual code .py files instead of the notebook.\n",
    "\n",
    "import torch\n",
    "import tvm\n",
    "import numpy as np\n",
    "\n",
    "from pe import LayerScale\n",
    "from compile import compile\n",
    "from utils import select_params\n",
    "\n",
    "PE_SPATIAL = '/home/jq/Storage/Model-Weights/HuggingFace-Cache/PE-Spatial-G14-448.pt'\n"
   ]
  },
  {
   "cell_type": "code",
   "execution_count": 14,
   "id": "418559ee",
   "metadata": {},
   "outputs": [
    {
     "name": "stdout",
     "output_type": "stream",
     "text": [
      "Selected transformer.resblocks.42.ls_1.gamma: (1536,)\n"
     ]
    }
   ],
   "source": [
    "device = tvm.device('cuda', 0)\n",
    "param_name = 'transformer.resblocks.42.ls_1.gamma'\n",
    "state_dict = torch.load(PE_SPATIAL)\n",
    "\n",
    "params = select_params(param_name, state_dict).numpy()\n",
    "mod = LayerScale(params.shape[0])\n",
    "mod, params\n",
    "\n",
    "print(f\"Selected {param_name}: {params.shape}\")\n",
    "\n",
    "mod, packed_params = mod.export_tvm(spec=mod.get_default_spec())\n",
    "#vm = compile(mod, device)"
   ]
  },
  {
   "cell_type": "code",
   "execution_count": null,
   "id": "da9881f2",
   "metadata": {},
   "outputs": [],
   "source": []
  }
 ],
 "metadata": {
  "kernelspec": {
   "display_name": "tvm-perception-encoders",
   "language": "python",
   "name": "python3"
  },
  "language_info": {
   "codemirror_mode": {
    "name": "ipython",
    "version": 3
   },
   "file_extension": ".py",
   "mimetype": "text/x-python",
   "name": "python",
   "nbconvert_exporter": "python",
   "pygments_lexer": "ipython3",
   "version": "3.11.12"
  }
 },
 "nbformat": 4,
 "nbformat_minor": 5
}
